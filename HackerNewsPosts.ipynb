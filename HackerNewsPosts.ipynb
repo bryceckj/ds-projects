{
 "cells": [
  {
   "cell_type": "markdown",
   "metadata": {},
   "source": [
    "Look at Hacker News, a popular technology website started by Y-Combinator. \n",
    "In particular, I will be focusing on `Ask HN` and `Show HN` posts. \n",
    "For this project, I want to answer 2 questions:\n",
    "- Do `Ask HN` or `Show HN` posts receive more comments on average?\n",
    "- Do posts created at a certain time receive more comments on average?\n",
    "    "
   ]
  },
  {
   "cell_type": "markdown",
   "metadata": {},
   "source": [
    "## Data Extraction\n",
    "I am using a [dataset](https://www.kaggle.com/hacker-news/hacker-news-posts) of around 300,000 posts on HackerNews. "
   ]
  },
  {
   "cell_type": "code",
   "execution_count": 5,
   "metadata": {},
   "outputs": [
    {
     "name": "stdout",
     "output_type": "stream",
     "text": [
      "['id', 'title', 'url', 'num_points', 'num_comments', 'author', 'created_at']\n",
      "[['12579008', 'You have two days to comment if you want stem cells to be classified as your own', 'http://www.regulations.gov/document?D=FDA-2015-D-3719-0018', '1', '0', 'altstar', '9/26/2016 3:26'], ['12579005', 'SQLAR  the SQLite Archiver', 'https://www.sqlite.org/sqlar/doc/trunk/README.md', '1', '0', 'blacksqr', '9/26/2016 3:24'], ['12578997', 'What if we just printed a flatscreen television on the side of our boxes?', 'https://medium.com/vanmoof/our-secrets-out-f21c1f03fdc8#.ietxmez43', '1', '0', 'pavel_lishin', '9/26/2016 3:19'], ['12578989', 'algorithmic music', 'http://cacm.acm.org/magazines/2011/7/109891-algorithmic-composition/fulltext', '1', '0', 'poindontcare', '9/26/2016 3:16'], ['12578979', 'How the Data Vault Enables the Next-Gen Data Warehouse and Data Lake', 'https://www.talend.com/blog/2016/05/12/talend-and-Â\\x93the-data-vaultÂ\\x94', '1', '0', 'markgainor1', '9/26/2016 3:14']]\n"
     ]
    }
   ],
   "source": [
    "from csv import reader\n",
    "opened_file = open('HN_posts_year_to_Sep_26_2016.csv')\n",
    "read_file = reader(opened_file)\n",
    "hn = list(read_file)\n",
    "headers = hn[0]\n",
    "hn = hn[1:]\n",
    "print(headers)\n",
    "print(hn[:5])\n"
   ]
  },
  {
   "cell_type": "markdown",
   "metadata": {},
   "source": [
    "## Cleaning\n",
    "\n",
    "- Since I am focusing on `Ask HN` and `Show HN` posts, I have to filter them out from the dataset."
   ]
  },
  {
   "cell_type": "code",
   "execution_count": 13,
   "metadata": {},
   "outputs": [
    {
     "name": "stdout",
     "output_type": "stream",
     "text": [
      "9139\n",
      "10158\n",
      "273822\n"
     ]
    }
   ],
   "source": [
    "                                  # Initialize 3 empty lists to categorize posts\n",
    "\n",
    "ask_posts = []\n",
    "show_posts = []\n",
    "other_posts = []\n",
    "\n",
    "for row in hn:\n",
    "    title = row[1]\n",
    "    title = title.lower()         # return lowercase version of titles to standardize case\n",
    "    \n",
    "    if title.startswith('ask hn'):\n",
    "        ask_posts.append(row)     # append the entire row to these lists, not just the title.\n",
    "    elif title.startswith('show hn'):\n",
    "        show_posts.append(row)\n",
    "    else:\n",
    "        other_posts.append(row)   # any title not starting with 'ask_hn' or 'show_hn' goes here\n",
    "        \n",
    "print(len(ask_posts))\n",
    "print(len(show_posts))\n",
    "print(len(other_posts))"
   ]
  },
  {
   "cell_type": "markdown",
   "metadata": {},
   "source": [
    "## Data Analysis"
   ]
  },
  {
   "cell_type": "markdown",
   "metadata": {},
   "source": [
    "### Post Type & Comments\n",
    "Now that the posts have been categorized, I can determine if `Ask HN` or `Show HN` posts receive more comments on average."
   ]
  },
  {
   "cell_type": "code",
   "execution_count": 47,
   "metadata": {},
   "outputs": [
    {
     "name": "stdout",
     "output_type": "stream",
     "text": [
      "For 'Ask HN', 94986 total comments for 9139 posts.\n",
      "The average number of comments received per post is ~ 10.39\n",
      "For 'Show HN', 49633 total comments for 10158 posts.\n",
      "The average number of comments received per post is ~ 4.89\n"
     ]
    }
   ],
   "source": [
    "total_ask_comments = 0\n",
    "total_show_comments = 0\n",
    "\n",
    "for i in ask_posts:\n",
    "    a_comments = i[4]                #assign number of comments to variable\n",
    "    a_comments = int(a_comments) \n",
    "    total_ask_comments += a_comments # accumulate each post's number of comments\n",
    "avg_ask_comments = total_ask_comments / len(ask_posts)\n",
    "print(\"For 'Ask HN', \", total_ask_comments, \" total comments for \", len(ask_posts), \" posts.\", sep='')\n",
    "print(\"The average number of comments received per post is ~\", format(avg_ask_comments, '.2f'))\n",
    "\n",
    "for j in show_posts:\n",
    "    s_comments = j[4]\n",
    "    s_comments = int(s_comments)\n",
    "    total_show_comments += s_comments\n",
    "avg_show_comments = total_show_comments / len(show_posts)\n",
    "print(\"For 'Show HN', \", total_show_comments, \" total comments for \", len(show_posts), \" posts.\", sep='')\n",
    "print(\"The average number of comments received per post is ~\", format(avg_show_comments, '.2f'))\n"
   ]
  },
  {
   "cell_type": "markdown",
   "metadata": {},
   "source": [
    "- Clearly, `Ask HN` posts (~10.39) have a *significantly higher average number of comments* than `Show HN` posts (~4.89). \n",
    "\n",
    "- This contrast is amplified by the fact that `Show HN` actually has more posts (10158) than `Ask HN` (9139), yet has significantly less comments on them."
   ]
  },
  {
   "cell_type": "markdown",
   "metadata": {},
   "source": [
    "### Post Time & Comments\n",
    "\n",
    "\n",
    "Since `Ask HN` posts are more likely to receive comments, I will focus on this type of post for my analysis. \n",
    "\n",
    "- I want to determine if posts created at a certain time of day are more likely to attract comments."
   ]
  },
  {
   "cell_type": "code",
   "execution_count": 165,
   "metadata": {},
   "outputs": [
    {
     "name": "stdout",
     "output_type": "stream",
     "text": [
      "{'02': 269, '01': 282, '22': 383, '21': 518, '19': 552, '17': 587, '15': 646, '14': 513, '13': 444, '11': 312, '10': 282, '09': 222, '07': 226, '03': 271, '23': 343, '20': 510, '16': 579, '08': 257, '00': 301, '18': 614, '12': 342, '04': 243, '06': 234, '05': 209}\n",
      "{'02': 2996, '01': 2089, '22': 3372, '21': 4500, '19': 3954, '17': 5547, '15': 18525, '14': 4972, '13': 7245, '11': 2797, '10': 3013, '09': 1477, '07': 1585, '03': 2154, '23': 2297, '20': 4462, '16': 4466, '08': 2362, '00': 2277, '18': 4877, '12': 4234, '04': 2360, '06': 1587, '05': 1838}\n"
     ]
    }
   ],
   "source": [
    "import datetime as dt\n",
    "result_list = []      # list of lists\n",
    "for i in ask_posts:\n",
    "    created = i[6]\n",
    "    created_dt = dt.datetime.strptime(created, \"%m/%d/%Y %H:%M\")   # use strptime to parse date and time\n",
    "    a_comments = int(i[4])  # number of comments\n",
    "    result_list.append([created_dt, a_comments])    # append list to result_list\n",
    "\n",
    "    \n",
    "counts_by_hour = {}\n",
    "comments_by_hour = {}\n",
    "\n",
    "for d in result_list:\n",
    "    hour = d[0]\n",
    "    comments = d[1]\n",
    "    hour_dt = dt.datetime.strftime(hour, \"%H\")    # extract only the hours from datetime\n",
    "    \n",
    "    if hour_dt not in counts_by_hour:             \n",
    "        counts_by_hour[hour_dt] = 1               # key: hour of post, value: number of posts created\n",
    "        comments_by_hour[hour_dt] = comments      # key: hour of post, value: number of comments for those posts\n",
    "                                                       # NOT hour of comment\n",
    "    elif hour_dt in counts_by_hour:  \n",
    "        counts_by_hour[hour_dt] += 1\n",
    "        comments_by_hour[hour_dt] += comments\n",
    "        \n",
    "print(counts_by_hour)\n",
    "print(comments_by_hour)\n",
    "    "
   ]
  },
  {
   "cell_type": "markdown",
   "metadata": {},
   "source": [
    "\n",
    "\n",
    "Using the `datetime` module, I was able to parse and format my post creation date and time. \n",
    "- This will *facilitate further analysis* on which post hour receives the most comments\n",
    "\n",
    "Then, I created a frequency table for *number of posts for each hour of posting*, and a frequency table for *number of comments received for each hour of posting*. In other words:\n",
    "- `counts_by_hour` is **{hour of post : number of posts}**\n",
    "- `comments_by_hour` is **{hour of post : number of comments received for post created in that hour}**\n",
    "\n",
    "This is useful because I want to calculate the **average number of comments per post in each hour.**\n",
    "- For example, at 2am, there were 269 posts created, and 2996 comments to those posts.\n",
    "- As you will see below, that leaves me with ~11.14 average comments per post, for posts created at 2am.\n"
   ]
  },
  {
   "cell_type": "code",
   "execution_count": 122,
   "metadata": {},
   "outputs": [
    {
     "name": "stdout",
     "output_type": "stream",
     "text": [
      "[['02', 11.14], ['01', 7.41], ['22', 8.8], ['21', 8.69], ['19', 7.16], ['17', 9.45], ['15', 28.68], ['14', 9.69], ['13', 16.32], ['11', 8.96], ['10', 10.68], ['09', 6.65], ['07', 7.01], ['03', 7.95], ['23', 6.7], ['20', 8.75], ['16', 7.71], ['08', 9.19], ['00', 7.56], ['18', 7.94], ['12', 12.38], ['04', 9.71], ['06', 6.78], ['05', 8.79]]\n"
     ]
    }
   ],
   "source": [
    "avg_by_hour = []\n",
    "\n",
    "for c in comments_by_hour:                        # for each row in the dict\n",
    "    avg_c = comments_by_hour[c]/counts_by_hour[c] # get average comments per post, by hour\n",
    "    avg_c = float(format (avg_c, '.2f'))\n",
    "    avg_by_hour.append([c, avg_c])                        # append to hpc list\n",
    "print(avg_by_hour)\n",
    "    \n",
    "    "
   ]
  },
  {
   "cell_type": "code",
   "execution_count": 166,
   "metadata": {},
   "outputs": [
    {
     "name": "stdout",
     "output_type": "stream",
     "text": [
      "[[28.68, '15'], [16.32, '13'], [12.38, '12'], [11.14, '02'], [10.68, '10'], [9.71, '04'], [9.69, '14'], [9.45, '17'], [9.19, '08'], [8.96, '11'], [8.8, '22'], [8.79, '05'], [8.75, '20'], [8.69, '21'], [7.95, '03'], [7.94, '18'], [7.71, '16'], [7.56, '00'], [7.41, '01'], [7.16, '19'], [7.01, '07'], [6.78, '06'], [6.7, '23'], [6.65, '09']]\n"
     ]
    }
   ],
   "source": [
    "swap_avg_by_hour = []\n",
    "for row in avg_by_hour:\n",
    "    swap_avg_by_hour.append([row[1], row[0]])  # swap hour & avg comments, so we can sort by avg comments\n",
    "\n",
    "sorted_swap = sorted(swap_avg_by_hour, reverse=True)\n",
    "print(sorted_swap)"
   ]
  },
  {
   "cell_type": "markdown",
   "metadata": {},
   "source": [
    "- Having calculated the average comments per post per hour, I swapped the order of the list, from [hour, avg comments] to [avg comments, hour]\n",
    "    - In doing so, I can now ***sort by the average comments, from most comments to least.***\n"
   ]
  },
  {
   "cell_type": "code",
   "execution_count": 176,
   "metadata": {
    "scrolled": true
   },
   "outputs": [
    {
     "name": "stdout",
     "output_type": "stream",
     "text": [
      "The hours of 'Ask HN' posts that receive the most comments:\n",
      "For posts at 15:00, there are 28.68 comments on average.\n",
      "For posts at 13:00, there are 16.32 comments on average.\n",
      "For posts at 12:00, there are 12.38 comments on average.\n",
      "For posts at 02:00, there are 11.14 comments on average.\n",
      "For posts at 10:00, there are 10.68 comments on average.\n"
     ]
    }
   ],
   "source": [
    "print(\"The hours of 'Ask HN' posts that receive the most comments:\")\n",
    "\n",
    "for row in sorted_swap[:5]:                    # get top 5 rows\n",
    "    hour = dt.datetime.strptime(row[1], \"%H\")  # parse hour, from str to dt\n",
    "    hour = dt.date.strftime(hour, \"%H:%M\")     # format 2 digit hour to Hour:Min\n",
    "    \n",
    "                            # using str.format, {0} refers to avg comments, {1} refers to the hour\n",
    "    print(\"For posts at {1}, there are {0} comments on average.\".format(row[0], hour)) "
   ]
  },
  {
   "cell_type": "markdown",
   "metadata": {},
   "source": [
    "### Generalizability of Analysis\n",
    "\n",
    "**To get a sense of its generalizability, I will run the same analysis on `Show HN` posts, `Other` posts, and on `Overall` posts.**\n",
    "- To simplify the process, I will create a **function** to replicate my analysis on these other types of posts.\n",
    "- The analysis on `Overall` posts includes `Ask HN`, `Show HN`, and `Other` posts."
   ]
  },
  {
   "cell_type": "code",
   "execution_count": 215,
   "metadata": {},
   "outputs": [],
   "source": [
    "def analysis(p):\n",
    "    import datetime as dt\n",
    "    s_result_list = []      # list of lists\n",
    "    for i in p:\n",
    "        created = i[6]\n",
    "        created_dt = dt.datetime.strptime(created, \"%m/%d/%Y %H:%M\")   # use strptime to parse date and time\n",
    "        s_comments = int(i[4])  # number of comments\n",
    "        s_result_list.append([created_dt, s_comments])    # append list to result_list\n",
    "    s_counts_by_hour = {}\n",
    "    s_comments_by_hour = {}\n",
    "    for d in s_result_list:\n",
    "        hour = d[0]\n",
    "        comments = d[1]\n",
    "        hour_dt = dt.datetime.strftime(hour, \"%H\")    # extract only the hours from datetime\n",
    "        if hour_dt not in s_counts_by_hour:             \n",
    "            s_counts_by_hour[hour_dt] = 1               # key: hour of post, value: number of posts created\n",
    "            s_comments_by_hour[hour_dt] = comments      # key: hour of post, value: number of comments for those posts\n",
    "                                                       # NOT hour of comment\n",
    "        elif hour_dt in s_counts_by_hour:  \n",
    "            s_counts_by_hour[hour_dt] += 1\n",
    "            s_comments_by_hour[hour_dt] += comments     \n",
    "    s_avg_by_hour = []\n",
    "    for c in s_comments_by_hour:                        # for each row in the dict\n",
    "        avg_c = s_comments_by_hour[c]/s_counts_by_hour[c] # get average comments per post, by hour\n",
    "        avg_c = float(format (avg_c, '.2f'))\n",
    "        s_avg_by_hour.append([c, avg_c])                        # append to hpc list\n",
    "    s_swap_avg_by_hour = []\n",
    "    for row in s_avg_by_hour:\n",
    "        s_swap_avg_by_hour.append([row[1], row[0]])  # swap hour & avg comments, so we can sort by avg comments\n",
    "    s_sorted_swap = sorted(s_swap_avg_by_hour, reverse=True)\n",
    "    print(\"Here are the hours of posts that receive the most comments. \\n\", sep='')\n",
    "    for row in s_sorted_swap[:5]:                    # get top 5 rows\n",
    "        hour = dt.datetime.strptime(row[1], \"%H\")  # parse hour, from str to dt\n",
    "        hour = dt.date.strftime(hour, \"%H:%M\")     # format 2 digit hour to Hour:Min\n",
    "\n",
    "                            # using str.format, {0} refers to avg comments, {1} refers to the hour\n",
    "        print(\"For posts at {1}, there are {0} comments on average.\".format(row[0], hour)) "
   ]
  },
  {
   "cell_type": "code",
   "execution_count": 216,
   "metadata": {},
   "outputs": [
    {
     "name": "stdout",
     "output_type": "stream",
     "text": [
      "For 'Show HN' posts:\n",
      "Here are the hours of posts that receive the most comments. \n",
      "\n",
      "For posts at 12:00, there are 6.99 comments on average.\n",
      "For posts at 07:00, there are 6.68 comments on average.\n",
      "For posts at 11:00, there are 6.0 comments on average.\n",
      "For posts at 08:00, there are 5.6 comments on average.\n",
      "For posts at 14:00, there are 5.52 comments on average.\n"
     ]
    }
   ],
   "source": [
    "print(\"For 'Show HN' posts:\")\n",
    "analysis(show_posts)"
   ]
  },
  {
   "cell_type": "code",
   "execution_count": 217,
   "metadata": {},
   "outputs": [
    {
     "name": "stdout",
     "output_type": "stream",
     "text": [
      "For 'Other' posts:\n",
      "Here are the hours of posts that receive the most comments. \n",
      "\n",
      "For posts at 12:00, there are 7.59 comments on average.\n",
      "For posts at 11:00, there are 7.37 comments on average.\n",
      "For posts at 02:00, there are 7.18 comments on average.\n",
      "For posts at 13:00, there are 7.15 comments on average.\n",
      "For posts at 05:00, there are 6.79 comments on average.\n"
     ]
    }
   ],
   "source": [
    "print(\"For 'Other' posts:\")\n",
    "analysis(other_posts)"
   ]
  },
  {
   "cell_type": "code",
   "execution_count": 218,
   "metadata": {},
   "outputs": [
    {
     "name": "stdout",
     "output_type": "stream",
     "text": [
      "For all posts:\n",
      "Here are the hours of posts that receive the most comments. \n",
      "\n",
      "For posts at 12:00, there are 7.69 comments on average.\n",
      "For posts at 11:00, there are 7.37 comments on average.\n",
      "For posts at 13:00, there are 7.34 comments on average.\n",
      "For posts at 02:00, there are 7.27 comments on average.\n",
      "For posts at 15:00, there are 7.05 comments on average.\n"
     ]
    }
   ],
   "source": [
    "print(\"For Overall posts:\")\n",
    "analysis(hn)"
   ]
  },
  {
   "cell_type": "markdown",
   "metadata": {},
   "source": [
    "## Conclusion\n",
    "\n",
    "- Evidently, if you want to create an `Ask HN` post that receives a lot of comments, you should post at 3pm. \n",
    "    - For `Show HN` posts, you should post at 12pm. \n",
    "        - However, since the `Ask HN` posts received significantly more comments, its numbers are also more robust. \n",
    "        - For example, the highest average number of comments for `Show HN` posts (6.99) would rank 3rd from the bottom of the `Ask HN` posts. \n",
    "    - For `Other` posts, 12pm also comes first.\n",
    "        - However, like `Show HN`, this number is also a lot less significant than `Ask HN` posts.\n",
    "        - Additionally, there is very little difference between the top 5 hours.\n",
    "    - For `Overall` posts, 12pm also comes first.\n",
    "        - However, like `Show HN` and `Other`, this number is also a lot less significant than `Ask HN` posts.\n",
    "        - Additionally, there is very little difference between the top 5 hours.\n",
    "        \n",
    "        \n",
    "The generalizability test indicates that the best time to create a post is not consistent across all types of posts.\n",
    "- While all the analyses seem to point to posting in the afternoon, the findings for `Show HN` posts, `Other` posts, and `Overall` posts are not robust enough. "
   ]
  },
  {
   "cell_type": "markdown",
   "metadata": {},
   "source": [
    "#### To conclude, if you want to create a post that receives a lot of comments:\n",
    "- First, create an `Ask HN` post\n",
    "- Second, create it at around 3pm. \n",
    "\n",
    "\n",
    "Further analyses can be done on which days do posts receive the most comments, "
   ]
  }
 ],
 "metadata": {
  "kernelspec": {
   "display_name": "Python 3",
   "language": "python",
   "name": "python3"
  },
  "language_info": {
   "codemirror_mode": {
    "name": "ipython",
    "version": 3
   },
   "file_extension": ".py",
   "mimetype": "text/x-python",
   "name": "python",
   "nbconvert_exporter": "python",
   "pygments_lexer": "ipython3",
   "version": "3.7.3"
  }
 },
 "nbformat": 4,
 "nbformat_minor": 2
}
