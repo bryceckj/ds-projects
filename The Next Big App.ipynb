{
 "cells": [
  {
   "cell_type": "markdown",
   "metadata": {},
   "source": [
    "# The Next Big App\n",
    "\n",
    "This project aims to help app developers make **data-driven decisions** about the **kind of apps** they build.\n",
    "- This will help developers build apps that can grow effectively and be sustainable on the revenue it generates.\n",
    "- Targeted at apps that are **free** to download and install, which represents the majority of apps on these markets.\n",
    "    - For these apps, the main revenue source is **in-app ads**. \n",
    "    - Thus, revenue for any given app is driven largely by **number of users**.\n",
    "\n",
    "Goal: \n",
    "- To help developers understand the types of apps that are **likely to attract and engage users**."
   ]
  },
  {
   "cell_type": "markdown",
   "metadata": {},
   "source": [
    "### Table of Contents\n",
    "\n",
    "- **Data Extraction**\n",
    "    - Data Sources\n",
    "- **Data Cleaning**\n",
    "    - Removing Incorrect Data\n",
    "    - Eliminating Duplicates\n",
    "    - Removing Non-English Apps\n",
    "    - Removing Paid Apps\n",
    "\n",
    "- **Data Analysis**\n",
    "    - Strategy\n",
    "    - Most Common Apps\n",
    "    - Most Popular Apps\n",
    "\n",
    "- **Conclusion**\n",
    "    - App Profile\n",
    "    \n",
    "    \n",
    "&nbsp;"
   ]
  },
  {
   "cell_type": "markdown",
   "metadata": {},
   "source": [
    "## Extracting Data\n",
    "As of September 2018, there were approximately 2 million iOS apps available on the App Store, and 2.1 million Android apps on Google Play Store. \n",
    "- Analyzing the entire app population will be too expensive and time-consuming, so instead I will use a sample dataset.\n",
    "- I will be using the following datasets:\n",
    "    - [App Store](https://www.kaggle.com/ramamet4/app-store-apple-data-set-10k-apps/home) with 7k+ rows collected in Jul 2017\n",
    "    - [Google Play Store](https://www.kaggle.com/lava18/google-play-store-apps/home) with 10k+ rows collected in Aug 2018"
   ]
  },
  {
   "cell_type": "code",
   "execution_count": 1,
   "metadata": {},
   "outputs": [],
   "source": [
    "from csv import reader\n",
    "\n",
    "### For the App Store dataset ###\n",
    "opened_file = open('AppleStore.csv')\n",
    "read_file = reader(opened_file)\n",
    "ios = list(read_file)\n",
    "ios_header = ios[0]\n",
    "ios = ios[1:]\n",
    "\n",
    "\n",
    "### For the Google Play Store dataset ###\n",
    "opened_file = open('googleplaystore.csv')\n",
    "read_file = reader(opened_file)\n",
    "android = list(read_file)\n",
    "android_header = android[0]\n",
    "android = android[1:]"
   ]
  },
  {
   "cell_type": "markdown",
   "metadata": {},
   "source": [
    "To explore the data, I will use a function *(that I can reuse)* called `explore_data()` to present the data in a more human-readable way, and to show the number of rows and columns in the data."
   ]
  },
  {
   "cell_type": "code",
   "execution_count": 2,
   "metadata": {},
   "outputs": [],
   "source": [
    "def explore_data(dataset, start, end, rows_and_columns=False):\n",
    "    dataset_slice = dataset[start:end]    \n",
    "    for row in dataset_slice:\n",
    "        print(row)\n",
    "        print('\\n')\n",
    "\n",
    "    if rows_and_columns:\n",
    "        print('Number of rows:', len(dataset))\n",
    "        print('Number of columns:', len(dataset[0]))"
   ]
  },
  {
   "cell_type": "code",
   "execution_count": 3,
   "metadata": {},
   "outputs": [
    {
     "name": "stdout",
     "output_type": "stream",
     "text": [
      "['', 'id', 'track_name', 'size_bytes', 'currency', 'price', 'rating_count_tot', 'rating_count_ver', 'user_rating', 'user_rating_ver', 'ver', 'cont_rating', 'prime_genre', 'sup_devices.num', 'ipadSc_urls.num', 'lang.num', 'vpp_lic']\n",
      "\n",
      "\n",
      "['1', '281656475', 'PAC-MAN Premium', '100788224', 'USD', '3.99', '21292', '26', '4', '4.5', '6.3.5', '4+', 'Games', '38', '5', '10', '1']\n",
      "\n",
      "\n",
      "['2', '281796108', 'Evernote - stay organized', '158578688', 'USD', '0', '161065', '26', '4', '3.5', '8.2.2', '4+', 'Productivity', '37', '5', '23', '1']\n",
      "\n",
      "\n",
      "['3', '281940292', 'WeatherBug - Local Weather, Radar, Maps, Alerts', '100524032', 'USD', '0', '188583', '2822', '3.5', '4.5', '5.0.0', '4+', 'Weather', '37', '5', '3', '1']\n",
      "\n",
      "\n",
      "Number of rows: 7197\n",
      "Number of columns: 17\n"
     ]
    }
   ],
   "source": [
    "print(ios_header)\n",
    "print('\\n')\n",
    "explore_data(ios, 0, 3, True)"
   ]
  },
  {
   "cell_type": "code",
   "execution_count": 4,
   "metadata": {},
   "outputs": [
    {
     "name": "stdout",
     "output_type": "stream",
     "text": [
      "['App', 'Category', 'Rating', 'Reviews', 'Size', 'Installs', 'Type', 'Price', 'Content Rating', 'Genres', 'Last Updated', 'Current Ver', 'Android Ver']\n",
      "\n",
      "\n",
      "['Photo Editor & Candy Camera & Grid & ScrapBook', 'ART_AND_DESIGN', '4.1', '159', '19M', '10,000+', 'Free', '0', 'Everyone', 'Art & Design', 'January 7, 2018', '1.0.0', '4.0.3 and up']\n",
      "\n",
      "\n",
      "['Coloring book moana', 'ART_AND_DESIGN', '3.9', '967', '14M', '500,000+', 'Free', '0', 'Everyone', 'Art & Design;Pretend Play', 'January 15, 2018', '2.0.0', '4.0.3 and up']\n",
      "\n",
      "\n",
      "['U Launcher Lite – FREE Live Cool Themes, Hide Apps', 'ART_AND_DESIGN', '4.7', '87510', '8.7M', '5,000,000+', 'Free', '0', 'Everyone', 'Art & Design', 'August 1, 2018', '1.2.4', '4.0.3 and up']\n",
      "\n",
      "\n",
      "Number of rows: 10841\n",
      "Number of columns: 13\n"
     ]
    }
   ],
   "source": [
    "print(android_header)\n",
    "print('\\n')\n",
    "explore_data(android, 0, 3, True)"
   ]
  },
  {
   "cell_type": "markdown",
   "metadata": {},
   "source": [
    "- As `explore_data()` shows, there are: \n",
    "    - **7197 rows** and **17 columns** in the **App Store** data;\n",
    "        - Some relevant columns are ***'track_name', 'currency', 'price', 'rating_count_tot', 'rating_count_ver', 'prime_genre'***. \n",
    "        - For more App Store column info, see [Documentation](https://www.kaggle.com/ramamet4/app-store-apple-data-set-10k-apps/home)\n",
    "\n",
    "        &nbsp;\n",
    "    - **10841 rows** and **13 columns** in the **Google Play Store** data. \n",
    "        - Some relevant columns are ***'App', 'Category', 'Reviews', 'Installs', 'Type', 'Price', 'Genres'***.\n",
    "        - For more Google Play Store column info, see [Documentation](https://www.kaggle.com/lava18/google-play-store-apps/home)\n",
    "        "
   ]
  },
  {
   "cell_type": "markdown",
   "metadata": {},
   "source": [
    "## Data Cleaning\n",
    "\n",
    "### Removing Incorrect Data\n",
    "Outlined in one of the Google Play [discussions](https://www.kaggle.com/lava18/google-play-store-apps/discussion/66015), there is an error in row 10472. \n",
    "- To identify the issue, let's have a look at it compared to another row."
   ]
  },
  {
   "cell_type": "code",
   "execution_count": 5,
   "metadata": {},
   "outputs": [
    {
     "name": "stdout",
     "output_type": "stream",
     "text": [
      "['App', 'Category', 'Rating', 'Reviews', 'Size', 'Installs', 'Type', 'Price', 'Content Rating', 'Genres', 'Last Updated', 'Current Ver', 'Android Ver']\n",
      "['Life Made WI-Fi Touchscreen Photo Frame', '1.9', '19', '3.0M', '1,000+', 'Free', '0', 'Everyone', '', 'February 11, 2018', '1.0.19', '4.0 and up']\n",
      "['Photo Editor & Candy Camera & Grid & ScrapBook', 'ART_AND_DESIGN', '4.1', '159', '19M', '10,000+', 'Free', '0', 'Everyone', 'Art & Design', 'January 7, 2018', '1.0.0', '4.0.3 and up']\n"
     ]
    }
   ],
   "source": [
    "# show the headers to match data\n",
    "print(android_header)\n",
    "\n",
    "# show the row with the wrong data\n",
    "print(android[10472])\n",
    "\n",
    "# show the row with the correct data\n",
    "print(android[0])"
   ]
  },
  {
   "cell_type": "markdown",
   "metadata": {},
   "source": [
    "- Clearly, the data doesn't match. \n",
    "    - Row 10472 has '1.9' for **'Category'**, which is obviously wrong (even if categories were assigned to numbers, a float doesn't make sense). To highlight the error, the other row has 'ART_AND_DESIGN'.\n",
    "    - Row 10472 has '19' for **'Rating'**. This is also wrong because apps are only rated on a scale of 5. \n",
    "- As such, I have to delete this row."
   ]
  },
  {
   "cell_type": "code",
   "execution_count": 6,
   "metadata": {},
   "outputs": [
    {
     "name": "stdout",
     "output_type": "stream",
     "text": [
      "10841\n",
      "10840\n"
     ]
    }
   ],
   "source": [
    "print(len(android))\n",
    "# Only delete once. After deletion, a new row replaces index 10472.\n",
    "del android[10472] \n",
    "\n",
    "print(len(android))"
   ]
  },
  {
   "cell_type": "markdown",
   "metadata": {},
   "source": [
    "### Eliminating Duplicates\n",
    "#### Duplicates in `android` apps"
   ]
  },
  {
   "cell_type": "markdown",
   "metadata": {},
   "source": [
    "Unfortunately, I have some duplicates in the data. \n",
    "- Fortunately, there is a way to see how many duplicates I have in a dataset. \n",
    "    - First, I will initialize 2 lists, `duplicate_apps` and `unique_apps`.\n",
    "    - For each iteration of the loop:\n",
    "        - Assign the app name to the variable `name`\n",
    "        - If the app name is already in the `unique_apps` list, add the app name to the `duplicate_apps` list.\n",
    "        - If the app name is not in the `unique_apps` list, this means it is the first time it is showing up, so add it to the `unique_apps` list.\n",
    "    "
   ]
  },
  {
   "cell_type": "code",
   "execution_count": 7,
   "metadata": {},
   "outputs": [
    {
     "name": "stdout",
     "output_type": "stream",
     "text": [
      "The number of apps with duplicates:  1181\n",
      "\n",
      "\n",
      "Examples of duplicate apps:  ['Quick PDF Scanner + OCR FREE', 'Box', 'Google My Business', 'ZOOM Cloud Meetings', 'join.me - Simple Meetings', 'Box', 'Zenefits', 'Google Ads', 'Google My Business', 'Slack', 'FreshBooks Classic', 'Insightly CRM', 'QuickBooks Accounting: Invoicing & Expenses', 'HipChat - Chat Built for Teams', 'Xero Accounting Software']\n"
     ]
    }
   ],
   "source": [
    "duplicate_apps = []\n",
    "unique_apps = []\n",
    "\n",
    "for app in android:\n",
    "    name = app[0]\n",
    "    if name in unique_apps:\n",
    "        duplicate_apps.append(name)\n",
    "    else:\n",
    "        unique_apps.append(name)\n",
    "print('The number of apps with duplicates: ', len(duplicate_apps))\n",
    "print('\\n')\n",
    "print('Examples of duplicate apps: ', duplicate_apps[:15])"
   ]
  },
  {
   "cell_type": "markdown",
   "metadata": {},
   "source": [
    "- Now I know that I have 1181 cases where an app occurs more than once.\n"
   ]
  },
  {
   "cell_type": "markdown",
   "metadata": {},
   "source": [
    "Let's have a closer look at an example.\n",
    "- How about the popular app *'Instagram'*?"
   ]
  },
  {
   "cell_type": "code",
   "execution_count": 8,
   "metadata": {},
   "outputs": [
    {
     "name": "stdout",
     "output_type": "stream",
     "text": [
      "['Instagram', 'SOCIAL', '4.5', '66577313', 'Varies with device', '1,000,000,000+', 'Free', '0', 'Teen', 'Social', 'July 31, 2018', 'Varies with device', 'Varies with device']\n",
      "['Instagram', 'SOCIAL', '4.5', '66577446', 'Varies with device', '1,000,000,000+', 'Free', '0', 'Teen', 'Social', 'July 31, 2018', 'Varies with device', 'Varies with device']\n",
      "['Instagram', 'SOCIAL', '4.5', '66577313', 'Varies with device', '1,000,000,000+', 'Free', '0', 'Teen', 'Social', 'July 31, 2018', 'Varies with device', 'Varies with device']\n",
      "['Instagram', 'SOCIAL', '4.5', '66509917', 'Varies with device', '1,000,000,000+', 'Free', '0', 'Teen', 'Social', 'July 31, 2018', 'Varies with device', 'Varies with device']\n"
     ]
    }
   ],
   "source": [
    "for app in android:\n",
    "    name = app[0] # assigning the first element of the app list to the name variable\n",
    "    if name =='Instagram':\n",
    "        print(app)"
   ]
  },
  {
   "cell_type": "markdown",
   "metadata": {},
   "source": [
    "- As expected, *'Instagram'* has more than 1 entry. In fact, it has 4.\n",
    "    - I don't want duplicate entries to skew the data, so I only want 1 entry per app.\n",
    "\n",
    "\n",
    "- Interestingly, the difference between the 4 entries are in `app[3]`, which indicates the number of reviews the app has received. \n",
    "    - This suggests that the data for the same app was ***collected at different times***. \n",
    "    - Based on this, it makes sense to keep the entry with the **highest number of reviews**. \n",
    "        - It is the **latest** *(reviews can only increase or stay the same as time passes)* and consequently, the most **robust**. \n",
    "\n",
    "Voilà! I have a criterion.\n",
    "- Now in order to build this criterion, I have to create a dictionary. \n",
    "    - Each key of the dictionary is a unique app name\n",
    "    - The corresponding value is the highest number of reviews for that app.\n",
    "- With the dictionary, I can then create a new cleaned dataset with only 1 entry per app. \n"
   ]
  },
  {
   "cell_type": "code",
   "execution_count": 9,
   "metadata": {},
   "outputs": [],
   "source": [
    "reviews_max = {}\n",
    "\n",
    "for app in android:\n",
    "    name = app[0]\n",
    "    n_reviews = float(app[3])\n",
    "    \n",
    "    if name in reviews_max and reviews_max[name] < n_reviews:\n",
    "        reviews_max[name] = n_reviews\n",
    "    elif name not in reviews_max:\n",
    "        reviews_max[name] = n_reviews\n"
   ]
  },
  {
   "cell_type": "markdown",
   "metadata": {},
   "source": [
    "- For each iteration:\n",
    "    - If the app name is already in the `reviews_max` dictionary, that means this is **NOT the first time** the app is showing up.\n",
    "        - From the ***2nd instance onwards***, if the number of reviews from the ***previous case is lower than the number of reviews from the current case***, then assign `n_reviews` of the current case to the `reviews_max` dictionary.\n",
    "        \n",
    "        &nbsp;\n",
    "    - Otherwise, if the app is not already there, that means this is **the first time** the app is showing up.\n",
    "        - In this case, just add the `n_reviews` of the current case to the `reviews_max` dictionary."
   ]
  },
  {
   "cell_type": "markdown",
   "metadata": {},
   "source": [
    "Earlier, I found that there are 1181 apps with duplicates in my data.\n",
    "- I can use that to check if the size of my dictionary is accurate."
   ]
  },
  {
   "cell_type": "code",
   "execution_count": 10,
   "metadata": {},
   "outputs": [
    {
     "name": "stdout",
     "output_type": "stream",
     "text": [
      "Expected:  9659\n",
      "Actual:  9659\n"
     ]
    }
   ],
   "source": [
    "print('Expected: ',len(android)-1181)\n",
    "print('Actual: ',len(reviews_max))"
   ]
  },
  {
   "cell_type": "markdown",
   "metadata": {},
   "source": [
    "With the `reviews_max` dictionary, I can use it to remove the duplicates in our data.\n",
    "- First, I will initialize 2 lists, `android_clean` and `already_added`.\n",
    "- For every iteration of the loop through `android`:\n",
    "    - Isolate app `name` and `n_reviews`\n",
    "    - If the **`n_reviews` value of the app matches the `reviews_max`** dictionary,\n",
    "    - **And** if the app name is **not already in the `already_added` list**. \n",
    "        - *(This is to ensure no duplicates with the same number of `n_reviews`. For instance, the app named 'Box' has 3 entries with the same `n_reviews`, which means all 3 cases will go into the `reviews_max` dictionary. This condition removes those duplicates.)*\n",
    "    - THEN:\n",
    "        - Add the current row (app) to the `android_clean` list and the app name `name` to the `already_added` list.\n",
    "\n",
    "&nbsp;\n",
    "- In other words,\n",
    "    - If the `n_reviews` is lower than `reviews_max`, it is **removed**.\n",
    "    - If the `n_reviews` matches `reviews_max`, but it is already in the `already_added` list, it is **removed**.\n",
    "    - If the `n_reviews` **matches** `reviews_max`, and it is **not in** `already_added`, then it is **kept**."
   ]
  },
  {
   "cell_type": "code",
   "execution_count": 11,
   "metadata": {},
   "outputs": [
    {
     "name": "stdout",
     "output_type": "stream",
     "text": [
      "['Photo Editor & Candy Camera & Grid & ScrapBook', 'ART_AND_DESIGN', '4.1', '159', '19M', '10,000+', 'Free', '0', 'Everyone', 'Art & Design', 'January 7, 2018', '1.0.0', '4.0.3 and up']\n",
      "\n",
      "\n",
      "['U Launcher Lite – FREE Live Cool Themes, Hide Apps', 'ART_AND_DESIGN', '4.7', '87510', '8.7M', '5,000,000+', 'Free', '0', 'Everyone', 'Art & Design', 'August 1, 2018', '1.2.4', '4.0.3 and up']\n",
      "\n",
      "\n",
      "['Sketch - Draw & Paint', 'ART_AND_DESIGN', '4.5', '215644', '25M', '50,000,000+', 'Free', '0', 'Teen', 'Art & Design', 'June 8, 2018', 'Varies with device', '4.2 and up']\n",
      "\n",
      "\n",
      "Number of rows: 9659\n",
      "Number of columns: 13\n"
     ]
    }
   ],
   "source": [
    "android_clean = []\n",
    "already_added = []\n",
    "\n",
    "for app in android:\n",
    "    name = app[0]\n",
    "    n_reviews = float(app[3])\n",
    "    \n",
    "    if (n_reviews == reviews_max[name]) and (name not in already_added):\n",
    "        android_clean.append(app)\n",
    "        already_added.append(name)\n",
    "        \n",
    "explore_data(android_clean, 0, 3, True)"
   ]
  },
  {
   "cell_type": "markdown",
   "metadata": {},
   "source": [
    "#### Repeat the process for duplicates in `ios` apps"
   ]
  },
  {
   "cell_type": "code",
   "execution_count": 12,
   "metadata": {},
   "outputs": [
    {
     "name": "stdout",
     "output_type": "stream",
     "text": [
      "The number of apps with duplicates:  0\n",
      "\n",
      "\n",
      "Examples of duplicate apps:  []\n"
     ]
    }
   ],
   "source": [
    "duplicate_apps = []\n",
    "unique_apps = []\n",
    "\n",
    "for app in ios:\n",
    "    name = app[0]\n",
    "    if name in unique_apps:\n",
    "        duplicate_apps.append(name)\n",
    "    else:\n",
    "        unique_apps.append(name)\n",
    "print('The number of apps with duplicates: ', len(duplicate_apps))\n",
    "print('\\n')\n",
    "print('Examples of duplicate apps: ', duplicate_apps[:15])"
   ]
  },
  {
   "cell_type": "markdown",
   "metadata": {},
   "source": [
    "- Since there are no duplicates found for `ios` apps, I don't have to remove anything from the `ios` dataset."
   ]
  },
  {
   "cell_type": "markdown",
   "metadata": {},
   "source": [
    "### Removing Non-English Apps"
   ]
  },
  {
   "cell_type": "code",
   "execution_count": 13,
   "metadata": {},
   "outputs": [
    {
     "name": "stdout",
     "output_type": "stream",
     "text": [
      "QQ游戏大厅HD\n",
      "エレメンタル ファンタジー - 高精細３ＤアクションＲＰＧ\n",
      "中国語 AQリスニング\n",
      "لعبة تقدر تربح DZ\n"
     ]
    }
   ],
   "source": [
    "print(ios[922][2])\n",
    "print(ios[6734][2])\n",
    "\n",
    "print(android_clean[4412][0])\n",
    "print(android_clean[7940][0])"
   ]
  },
  {
   "cell_type": "markdown",
   "metadata": {},
   "source": [
    "In order to remove these apps, I need to establish a criterion for English. \n",
    "- Since the characters of English text are encoded in ASCII (which has a corresponding number from **0-127** associated with each character), I can **check if an app name contains non-ASCII** characters.\n",
    "- It is useful to note that the *built in* `ord()` function retrieves the corresponding encoding number.\n",
    "    - Therefore, if the ord number is **greater than 127**, we know it is a **non-ASCII** character.\n",
    "    \n",
    "    &nbsp;\n",
    "    - Having said that, there are instances where characters are out of the ASCII range, but are commonly found in English app names, such as '™', '—', '😜', etc.\n",
    "    - I have to identify a more specific criterion to remove non-English apps ***without excessive removal of eligible English apps***. \n",
    "    - New criterion:\n",
    "        - For every non-ASCII character, add 1 to `non_ascii`.\n",
    "        - If an app name has **more than 3 non-ASCII** characters (`non_ascii` > 3), it is removed."
   ]
  },
  {
   "cell_type": "code",
   "execution_count": 14,
   "metadata": {},
   "outputs": [
    {
     "name": "stdout",
     "output_type": "stream",
     "text": [
      "True\n",
      "False\n",
      "False\n",
      "True\n",
      "True\n"
     ]
    }
   ],
   "source": [
    "def is_english(string):\n",
    "    non_ascii = 0\n",
    "    \n",
    "    for char in string:\n",
    "        if ord(char)>127:\n",
    "            non_ascii += 1\n",
    "            \n",
    "    if non_ascii > 3:\n",
    "        return False\n",
    "    else:\n",
    "        return True\n",
    "\n",
    "print(is_english('Instagram'))\n",
    "print(is_english('爱奇艺PPS -《欢乐颂2》电视剧热播'))\n",
    "print(is_english(ios[922][2]))\n",
    "print(is_english('Docs To Go™ Free Office Suite'))\n",
    "print(is_english('Instachat 😜'))\n",
    "        "
   ]
  },
  {
   "cell_type": "markdown",
   "metadata": {},
   "source": [
    "With this removal criterion in place, we will now remove the non-English apps in both datasets."
   ]
  },
  {
   "cell_type": "code",
   "execution_count": 15,
   "metadata": {},
   "outputs": [
    {
     "name": "stdout",
     "output_type": "stream",
     "text": [
      "['1', '281656475', 'PAC-MAN Premium', '100788224', 'USD', '3.99', '21292', '26', '4', '4.5', '6.3.5', '4+', 'Games', '38', '5', '10', '1']\n",
      "\n",
      "\n",
      "['2', '281796108', 'Evernote - stay organized', '158578688', 'USD', '0', '161065', '26', '4', '3.5', '8.2.2', '4+', 'Productivity', '37', '5', '23', '1']\n",
      "\n",
      "\n",
      "['3', '281940292', 'WeatherBug - Local Weather, Radar, Maps, Alerts', '100524032', 'USD', '0', '188583', '2822', '3.5', '4.5', '5.0.0', '4+', 'Weather', '37', '5', '3', '1']\n",
      "\n",
      "\n",
      "Number of rows: 6183\n",
      "Number of columns: 17\n",
      "\n",
      "\n",
      "['Photo Editor & Candy Camera & Grid & ScrapBook', 'ART_AND_DESIGN', '4.1', '159', '19M', '10,000+', 'Free', '0', 'Everyone', 'Art & Design', 'January 7, 2018', '1.0.0', '4.0.3 and up']\n",
      "\n",
      "\n",
      "['U Launcher Lite – FREE Live Cool Themes, Hide Apps', 'ART_AND_DESIGN', '4.7', '87510', '8.7M', '5,000,000+', 'Free', '0', 'Everyone', 'Art & Design', 'August 1, 2018', '1.2.4', '4.0.3 and up']\n",
      "\n",
      "\n",
      "['Sketch - Draw & Paint', 'ART_AND_DESIGN', '4.5', '215644', '25M', '50,000,000+', 'Free', '0', 'Teen', 'Art & Design', 'June 8, 2018', 'Varies with device', '4.2 and up']\n",
      "\n",
      "\n",
      "Number of rows: 9614\n",
      "Number of columns: 13\n"
     ]
    }
   ],
   "source": [
    "ios_eng = []\n",
    "android_eng = []\n",
    "\n",
    "for app in ios:\n",
    "    name = app[2]\n",
    "    if is_english(name):\n",
    "        ios_eng.append(app)\n",
    "\n",
    "for app in android_clean:\n",
    "    name = app[0]\n",
    "    if is_english(name):\n",
    "        android_eng.append(app)\n",
    "\n",
    "explore_data(ios_eng, 0, 3, True)\n",
    "print('\\n')\n",
    "explore_data(android_eng, 0, 3, True)\n",
    "\n"
   ]
  },
  {
   "cell_type": "markdown",
   "metadata": {},
   "source": [
    "### Removing Paid Apps\n",
    "\n",
    "Since I am focusing only on free apps, I have to remove the paid apps from my data."
   ]
  },
  {
   "cell_type": "code",
   "execution_count": 16,
   "metadata": {},
   "outputs": [
    {
     "name": "stdout",
     "output_type": "stream",
     "text": [
      "3222\n",
      "8864\n"
     ]
    }
   ],
   "source": [
    "ios_final = []\n",
    "android_final = []\n",
    "\n",
    "for app in ios_eng:\n",
    "    price = app[5]\n",
    "    if price == '0':\n",
    "        ios_final.append(app)\n",
    "\n",
    "for app in android_eng:\n",
    "    price = app[7]\n",
    "    if price == '0':\n",
    "        android_final.append(app)\n",
    "        \n",
    "print(len(ios_final))\n",
    "print(len(android_final))"
   ]
  },
  {
   "cell_type": "markdown",
   "metadata": {},
   "source": [
    "**After all the data cleaning, we are left with 3222 iOS apps, and 8864 Android apps.**"
   ]
  },
  {
   "cell_type": "markdown",
   "metadata": {},
   "source": [
    "## Analyzing Data\n",
    "\n",
    "### Strategy\n",
    "\n",
    "In line with my goal to identify the type of apps that are likely to attract and engage users, I have to come up with an efficient strategy to validate whether an app idea will achieve this goal.\n",
    "\n",
    "1. Build a ***beta version*** of an app for Android, and add it to the Google Play Store.\n",
    "2. If the app beta has a **good response**, decide to develop it further.\n",
    "3. If the app is **profitable after 6 months**, we develop iOS version of the app, and add it to the App Store."
   ]
  },
  {
   "cell_type": "markdown",
   "metadata": {},
   "source": [
    "### Most Common Apps by Genre\n",
    "\n",
    "Since the end goal is to develop a profitable free app on both the App Store and Google Play Store markets, I have to look at the profiles of apps that are *successful on both markets*. \n",
    "- Before I look at **popularity**, I want to look at what is most **commonly found** on the markets. \n",
    "    - The first method of **app profiling (classification)** I want to look at is the **genre**, so for each market I will sieve out the **most commonly found genres**.\n",
    "    - To do this, I will have to build a ***frequency table*** for the `prime_genre` column of the App Store data, and the `Genres` and `Category` columns of the Google Play data. "
   ]
  },
  {
   "cell_type": "markdown",
   "metadata": {},
   "source": [
    "I will first create 2 functions that can later be used for both markets:\n",
    "- With one function to generate frequency tables that show percentages\n",
    "- Another function to display percentages in descending order"
   ]
  },
  {
   "cell_type": "code",
   "execution_count": 17,
   "metadata": {},
   "outputs": [],
   "source": [
    "def freq_table(dataset, index):\n",
    "    table = {}\n",
    "    total = 0\n",
    "    \n",
    "    #for each row in ios_final:\n",
    "        #total + 1 \n",
    "        #assign genre to value\n",
    "        #if genre is already in table:\n",
    "            #table[genre] + 1 (add to existing)\n",
    "        #or else if genre is not there yet:\n",
    "            #table[genre] = 1 (the first one)\n",
    "            \n",
    "    for row in dataset:\n",
    "        total += 1\n",
    "        value = row[index]\n",
    "        if value in table:\n",
    "            table[value]+=1\n",
    "        else:\n",
    "            table[value]=1\n",
    "        \n",
    "        \n",
    "    #create table of percentages as dictionary\n",
    "    #for each key (count_genre) in the table[genre]:\n",
    "        #the percent is derived by taking the (count of genre / total rows) * 100%\n",
    "        #assign the percent to the corresponding key in the table of percentages\n",
    "    \n",
    "    table_percent = {}\n",
    "    for key in table:\n",
    "        percent = (table[key]/total)*100\n",
    "        table_percent[key] = percent\n",
    "        \n",
    "    return table_percent\n",
    "\n",
    "\n",
    "\n",
    "    \n",
    "def display_table(dataset, index):\n",
    "    table = freq_table(dataset, index)\n",
    "    table_display = []\n",
    "    \n",
    "    #for each genre in the freq table\n",
    "        #convert dict to tuple, with (%_genre, and the genre)\n",
    "        #add that tuple to the table_display\n",
    "    \n",
    "    for key in table:\n",
    "        key_val_tuple = (table[key], key)\n",
    "        table_display.append(key_val_tuple)\n",
    "    \n",
    "    \n",
    "    #sort the table_display by %_genre in descending\n",
    "    #for every row in table_sorted:\n",
    "        #print the (genre : %_genre)\n",
    "    \n",
    "    table_sorted = sorted(table_display, reverse = True)\n",
    "    for r in table_sorted:\n",
    "        print(r[1], ':', r[0])\n",
    "        "
   ]
  },
  {
   "cell_type": "markdown",
   "metadata": {},
   "source": [
    "#### For the App Store data\n",
    "- Here is the frequency table for `prime_genre` "
   ]
  },
  {
   "cell_type": "code",
   "execution_count": 18,
   "metadata": {
    "scrolled": false
   },
   "outputs": [
    {
     "name": "stdout",
     "output_type": "stream",
     "text": [
      "Games : 58.16263190564867\n",
      "Entertainment : 7.883302296710118\n",
      "Photo & Video : 4.9658597144630665\n",
      "Education : 3.662321539416512\n",
      "Social Networking : 3.2898820608317814\n",
      "Shopping : 2.60707635009311\n",
      "Utilities : 2.5139664804469275\n",
      "Sports : 2.1415270018621975\n",
      "Music : 2.0484171322160147\n",
      "Health & Fitness : 2.0173805090006205\n",
      "Productivity : 1.7380509000620732\n",
      "Lifestyle : 1.5828677839851024\n",
      "News : 1.3345747982619491\n",
      "Travel : 1.2414649286157666\n",
      "Finance : 1.1173184357541899\n",
      "Weather : 0.8690254500310366\n",
      "Food & Drink : 0.8069522036002483\n",
      "Reference : 0.5586592178770949\n",
      "Business : 0.5276225946617008\n",
      "Book : 0.4345127250155183\n",
      "Navigation : 0.186219739292365\n",
      "Medical : 0.186219739292365\n",
      "Catalogs : 0.12414649286157665\n"
     ]
    }
   ],
   "source": [
    "display_table(ios_final, -5)"
   ]
  },
  {
   "cell_type": "markdown",
   "metadata": {},
   "source": [
    "Results:\n",
    "- Amongst the free, English apps, more than half are **Games** (58.16%), and a very distant second are **Entertainment** (7.88%). **Photo & Video** apps (~5%) came in third. \n",
    "- **Education** apps (3.66%), and **Social Networking** apps (3.29%) represent the other significant app genres.  "
   ]
  },
  {
   "cell_type": "markdown",
   "metadata": {},
   "source": [
    "Based on these results, it appears that:\n",
    "- App Store consists **mostly** of apps made for ***Fun*** (Games, Entertainment, Photo, Social Networking), \n",
    "- Whereas apps made for ***Practical Purposes***(Education, Utilities, Productivity, Finance) are more **rare**.\n",
    "\n",
    "However, even though the ***Fun*** apps are the most commonly found on the App Store, it *doesn't mean they have the most number of users*. \n",
    "- Therefore, it is ***not a measure of success*** for this analysis, only an indication of the ***market landscape***.\n"
   ]
  },
  {
   "cell_type": "markdown",
   "metadata": {},
   "source": [
    "#### Now for the Google Play data \n",
    "There are 2 relevant columns, `Category`, and `Genres`. \n",
    "\n",
    "- Let's first have a look at frequency table for the `Category` column of the Google Play data. "
   ]
  },
  {
   "cell_type": "code",
   "execution_count": 19,
   "metadata": {
    "scrolled": true
   },
   "outputs": [
    {
     "name": "stdout",
     "output_type": "stream",
     "text": [
      "FAMILY : 18.907942238267147\n",
      "GAME : 9.724729241877256\n",
      "TOOLS : 8.461191335740072\n",
      "BUSINESS : 4.591606498194946\n",
      "LIFESTYLE : 3.9034296028880866\n",
      "PRODUCTIVITY : 3.892148014440433\n",
      "FINANCE : 3.7003610108303246\n",
      "MEDICAL : 3.531137184115524\n",
      "SPORTS : 3.395758122743682\n",
      "PERSONALIZATION : 3.3167870036101084\n",
      "COMMUNICATION : 3.2378158844765346\n",
      "HEALTH_AND_FITNESS : 3.0798736462093865\n",
      "PHOTOGRAPHY : 2.944494584837545\n",
      "NEWS_AND_MAGAZINES : 2.7978339350180503\n",
      "SOCIAL : 2.6624548736462095\n",
      "TRAVEL_AND_LOCAL : 2.33528880866426\n",
      "SHOPPING : 2.2450361010830324\n",
      "BOOKS_AND_REFERENCE : 2.1435018050541514\n",
      "DATING : 1.861462093862816\n",
      "VIDEO_PLAYERS : 1.7937725631768955\n",
      "MAPS_AND_NAVIGATION : 1.3989169675090252\n",
      "FOOD_AND_DRINK : 1.2409747292418771\n",
      "EDUCATION : 1.1620036101083033\n",
      "ENTERTAINMENT : 0.9589350180505415\n",
      "LIBRARIES_AND_DEMO : 0.9363718411552346\n",
      "AUTO_AND_VEHICLES : 0.9250902527075812\n",
      "HOUSE_AND_HOME : 0.8235559566787004\n",
      "WEATHER : 0.8009927797833934\n",
      "EVENTS : 0.7107400722021661\n",
      "PARENTING : 0.6543321299638989\n",
      "ART_AND_DESIGN : 0.6430505415162455\n",
      "COMICS : 0.6204873646209386\n",
      "BEAUTY : 0.5979241877256317\n"
     ]
    }
   ],
   "source": [
    "display_table(android_final, 1) # Category"
   ]
  },
  {
   "cell_type": "markdown",
   "metadata": {},
   "source": [
    "- And secondly, the `Genres` data."
   ]
  },
  {
   "cell_type": "code",
   "execution_count": 20,
   "metadata": {
    "scrolled": true
   },
   "outputs": [
    {
     "name": "stdout",
     "output_type": "stream",
     "text": [
      "Tools : 8.449909747292418\n",
      "Entertainment : 6.069494584837545\n",
      "Education : 5.347472924187725\n",
      "Business : 4.591606498194946\n",
      "Productivity : 3.892148014440433\n",
      "Lifestyle : 3.892148014440433\n",
      "Finance : 3.7003610108303246\n",
      "Medical : 3.531137184115524\n",
      "Sports : 3.463447653429603\n",
      "Personalization : 3.3167870036101084\n",
      "Communication : 3.2378158844765346\n",
      "Action : 3.1024368231046933\n",
      "Health & Fitness : 3.0798736462093865\n",
      "Photography : 2.944494584837545\n",
      "News & Magazines : 2.7978339350180503\n",
      "Social : 2.6624548736462095\n",
      "Travel & Local : 2.3240072202166067\n",
      "Shopping : 2.2450361010830324\n",
      "Books & Reference : 2.1435018050541514\n",
      "Simulation : 2.0419675090252705\n",
      "Dating : 1.861462093862816\n",
      "Arcade : 1.8501805054151623\n",
      "Video Players & Editors : 1.7712093862815883\n",
      "Casual : 1.7599277978339352\n",
      "Maps & Navigation : 1.3989169675090252\n",
      "Food & Drink : 1.2409747292418771\n",
      "Puzzle : 1.128158844765343\n",
      "Racing : 0.9927797833935018\n",
      "Role Playing : 0.9363718411552346\n",
      "Libraries & Demo : 0.9363718411552346\n",
      "Auto & Vehicles : 0.9250902527075812\n",
      "Strategy : 0.9138086642599278\n",
      "House & Home : 0.8235559566787004\n",
      "Weather : 0.8009927797833934\n",
      "Events : 0.7107400722021661\n",
      "Adventure : 0.6768953068592057\n",
      "Comics : 0.6092057761732852\n",
      "Beauty : 0.5979241877256317\n",
      "Art & Design : 0.5979241877256317\n",
      "Parenting : 0.4963898916967509\n",
      "Card : 0.45126353790613716\n",
      "Casino : 0.42870036101083037\n",
      "Trivia : 0.41741877256317694\n",
      "Educational;Education : 0.39485559566787\n",
      "Board : 0.3835740072202166\n",
      "Educational : 0.3722924187725632\n",
      "Education;Education : 0.33844765342960287\n",
      "Word : 0.2594765342960289\n",
      "Casual;Pretend Play : 0.236913357400722\n",
      "Music : 0.2030685920577617\n",
      "Racing;Action & Adventure : 0.16922382671480143\n",
      "Puzzle;Brain Games : 0.16922382671480143\n",
      "Entertainment;Music & Video : 0.16922382671480143\n",
      "Casual;Brain Games : 0.13537906137184114\n",
      "Casual;Action & Adventure : 0.13537906137184114\n",
      "Arcade;Action & Adventure : 0.12409747292418773\n",
      "Action;Action & Adventure : 0.10153429602888085\n",
      "Educational;Pretend Play : 0.09025270758122744\n",
      "Simulation;Action & Adventure : 0.078971119133574\n",
      "Parenting;Education : 0.078971119133574\n",
      "Entertainment;Brain Games : 0.078971119133574\n",
      "Board;Brain Games : 0.078971119133574\n",
      "Parenting;Music & Video : 0.06768953068592057\n",
      "Educational;Brain Games : 0.06768953068592057\n",
      "Casual;Creativity : 0.06768953068592057\n",
      "Art & Design;Creativity : 0.06768953068592057\n",
      "Education;Pretend Play : 0.056407942238267145\n",
      "Role Playing;Pretend Play : 0.04512635379061372\n",
      "Education;Creativity : 0.04512635379061372\n",
      "Role Playing;Action & Adventure : 0.033844765342960284\n",
      "Puzzle;Action & Adventure : 0.033844765342960284\n",
      "Entertainment;Creativity : 0.033844765342960284\n",
      "Entertainment;Action & Adventure : 0.033844765342960284\n",
      "Educational;Creativity : 0.033844765342960284\n",
      "Educational;Action & Adventure : 0.033844765342960284\n",
      "Education;Music & Video : 0.033844765342960284\n",
      "Education;Brain Games : 0.033844765342960284\n",
      "Education;Action & Adventure : 0.033844765342960284\n",
      "Adventure;Action & Adventure : 0.033844765342960284\n",
      "Video Players & Editors;Music & Video : 0.02256317689530686\n",
      "Sports;Action & Adventure : 0.02256317689530686\n",
      "Simulation;Pretend Play : 0.02256317689530686\n",
      "Puzzle;Creativity : 0.02256317689530686\n",
      "Music;Music & Video : 0.02256317689530686\n",
      "Entertainment;Pretend Play : 0.02256317689530686\n",
      "Casual;Education : 0.02256317689530686\n",
      "Board;Action & Adventure : 0.02256317689530686\n",
      "Video Players & Editors;Creativity : 0.01128158844765343\n",
      "Trivia;Education : 0.01128158844765343\n",
      "Travel & Local;Action & Adventure : 0.01128158844765343\n",
      "Tools;Education : 0.01128158844765343\n",
      "Strategy;Education : 0.01128158844765343\n",
      "Strategy;Creativity : 0.01128158844765343\n",
      "Strategy;Action & Adventure : 0.01128158844765343\n",
      "Simulation;Education : 0.01128158844765343\n",
      "Role Playing;Brain Games : 0.01128158844765343\n",
      "Racing;Pretend Play : 0.01128158844765343\n",
      "Puzzle;Education : 0.01128158844765343\n",
      "Parenting;Brain Games : 0.01128158844765343\n",
      "Music & Audio;Music & Video : 0.01128158844765343\n",
      "Lifestyle;Pretend Play : 0.01128158844765343\n",
      "Lifestyle;Education : 0.01128158844765343\n",
      "Health & Fitness;Education : 0.01128158844765343\n",
      "Health & Fitness;Action & Adventure : 0.01128158844765343\n",
      "Entertainment;Education : 0.01128158844765343\n",
      "Communication;Creativity : 0.01128158844765343\n",
      "Comics;Creativity : 0.01128158844765343\n",
      "Casual;Music & Video : 0.01128158844765343\n",
      "Card;Action & Adventure : 0.01128158844765343\n",
      "Books & Reference;Education : 0.01128158844765343\n",
      "Art & Design;Pretend Play : 0.01128158844765343\n",
      "Art & Design;Action & Adventure : 0.01128158844765343\n",
      "Arcade;Pretend Play : 0.01128158844765343\n",
      "Adventure;Education : 0.01128158844765343\n"
     ]
    }
   ],
   "source": [
    "display_table(android_final, -4)"
   ]
  },
  {
   "cell_type": "markdown",
   "metadata": {},
   "source": [
    "Results (`Category`):\n",
    "- I found that **Family** (18.9%) leads the charts, followed by **Game** (9.72%) and **Tools**(8.46%).\n",
    "- Other subsequent significant genres include **Business**(4.59%), **Lifestyle**(3.9%), **Productivity**(3.89%), **Finance**(3.7%), and **Medical** (3.53%)."
   ]
  },
  {
   "cell_type": "markdown",
   "metadata": {},
   "source": [
    "Results (`Genres`):\n",
    "- **Tools**(8.45%) came in first, followed by **Entertainment**(6.07%) in second, and **Education** (5.35%) in third.\n",
    "- Other subsequent significant genres include **Business**(4.59%), **Productivity** (3.89%), **Lifestyle** (3.89%), **Finance** (3.7%), and **Medical** (3.53%).\n",
    "- `Genres` is more granular, whereas I am looking at the bigger picture, thus I will only look at `Category` moving forward."
   ]
  },
  {
   "cell_type": "markdown",
   "metadata": {},
   "source": [
    "Based on these results, it appears that:\n",
    "- Android apps have more apps made for ***Practical Purposes*** (Tools, Business, Productivity)\n",
    "- Whereas apps made for ***Fun*** (Games, Entertainment, Social Networking) are less common.\n",
    "    - Having said that, **Games** came in 2nd for `Category` and **Entertainment** was 2nd for `Genres`, so the **disparity** between ***Practical*** apps and ***Fun*** apps is **not as wide** as in the App Store results.\n",
    "    - Additionally, the **Family** genre for `Category` was found to be made up of mostly games for kids, so we can now consider that 29% of `Category` was in the genre of **Games**.\n"
   ]
  },
  {
   "cell_type": "markdown",
   "metadata": {},
   "source": [
    "#### Between the two datasets\n",
    "\n",
    "- There remains a larger representation of ***Practical*** apps on the Google Play Store than the App Store.\n",
    "- This also means that there is a much smaller difference between ***Fun*** and ***Practical*** apps in the Google Play Store compared to the App Store. \n",
    "\n",
    "Again, this is **not a measure of success** (number of users), only an indication of the **landscape** for each market (number of apps)."
   ]
  },
  {
   "cell_type": "markdown",
   "metadata": {},
   "source": [
    "### Most Popular Apps by Genre\n",
    "\n",
    "Having examined the markets, I am now going to learn more about the apps with the most number of users.\n",
    "\n",
    "&nbsp;\n",
    "There are a number of ways to evaluate app popularity\n",
    "- The simplest metric for popularity would definitely be the number of downloads. Unfortunately, while the Google Play data has an `Installs` column, our App Store data does not contain any information on number of downloads.\n"
   ]
  },
  {
   "cell_type": "markdown",
   "metadata": {},
   "source": [
    "- Fret not, for there is always another way. \n",
    "    - One useful metric is the **number of ratings** for the app. \n",
    "    - This allows us to look at *how many users actually used the app considerably* enough to give a rating (as opposed to looking solely at number of downloads).\n",
    "    - To get a better sense of each genre, I will look at the **total** number of ratings in each genre as well as the **average** number of apps per genre in each market."
   ]
  },
  {
   "cell_type": "markdown",
   "metadata": {},
   "source": [
    "#### App Store\n",
    "\n",
    "- For the App Store, we will use the `ratings_count_tot` column as our measure.\n"
   ]
  },
  {
   "cell_type": "code",
   "execution_count": 21,
   "metadata": {
    "scrolled": true
   },
   "outputs": [
    {
     "name": "stdout",
     "output_type": "stream",
     "text": [
      "Productivity : 21028.410714285714 , 1177591.0\n",
      "Weather : 52279.892857142855 , 1463837.0\n",
      "Shopping : 26919.690476190477 , 2261254.0\n",
      "Reference : 74942.11111111111 , 1348958.0\n",
      "Finance : 31467.944444444445 , 1132846.0\n",
      "Music : 57326.530303030304 , 3783551.0\n",
      "Utilities : 18684.456790123455 , 1513441.0\n",
      "Travel : 28243.8 , 1129752.0\n",
      "Social Networking : 71548.34905660378 , 7584125.0\n",
      "Sports : 23008.898550724636 , 1587614.0\n",
      "Health & Fitness : 23298.015384615384 , 1514371.0\n",
      "Games : 22788.6696905016 , 42705967.0\n",
      "Food & Drink : 33333.92307692308 , 866682.0\n",
      "News : 21248.023255813954 , 913665.0\n",
      "Book : 39758.5 , 556619.0\n",
      "Photo & Video : 28441.54375 , 4550647.0\n",
      "Entertainment : 14029.830708661417 , 3563577.0\n",
      "Business : 7491.117647058823 , 127349.0\n",
      "Lifestyle : 16485.764705882353 , 840774.0\n",
      "Education : 7003.983050847458 , 826470.0\n",
      "Navigation : 86090.33333333333 , 516542.0\n",
      "Medical : 612.0 , 3672.0\n",
      "Catalogs : 4004.0 , 16016.0\n"
     ]
    }
   ],
   "source": [
    "# populate the genres_ios with the freq_table function\n",
    "genres_ios = freq_table(ios_final, -5)\n",
    "\n",
    "# for each genre \n",
    "    # define total ratings and rating count for each genre\n",
    "\n",
    "for genre in genres_ios:\n",
    "    total = 0\n",
    "    len_genre = 0\n",
    "    \n",
    "    \n",
    "    # for each app in IOS:\n",
    "        # assign the genre of the app\n",
    "        # if the app genre matches the genre in the freq_table\n",
    "            # assign the number of ratings to a float variable\n",
    "            # accumulate total ratings\n",
    "            # accumulate rating count\n",
    "            \n",
    "    for app in ios_final:\n",
    "        genre_app = app[-5]\n",
    "        if genre_app == genre:\n",
    "            n_ratings = float(app[6])\n",
    "            total += n_ratings\n",
    "            len_genre += 1\n",
    "                  \n",
    "    # get avg by taking (total ratings / rating count)\n",
    "    avg_n_ratings = (total/len_genre)\n",
    "    print(genre,':', avg_n_ratings, ',', total)\n",
    "    "
   ]
  },
  {
   "cell_type": "markdown",
   "metadata": {},
   "source": [
    "- At the aggregate level, **Games** leads the charts with 42MM ratings, followed by **Social Networking** with 7.6MM.\n",
    "    - It is noteworthy that some genres are more saturated with a lot of apps, which would therefore lead to more ratings. \n",
    "    - Thus, to investigate, I am going to look at the average ratings per app for each genre."
   ]
  },
  {
   "cell_type": "markdown",
   "metadata": {},
   "source": [
    "- **Navigation** (86090) has the highest number of ratings per app, followed by **Reference** (74942) and **Social Networking** (71548).\n",
    "    - In order to dive deeper into a genre, I will create a function `genre_share` to investigate any specified genre in greater detail, including the ***total number of ratings***, and ***percentage share of that total*** each app has. \n",
    "    - This can help us identify if there are any particular apps that are **dominating (and thereby skewing)** the genre.\n",
    "    - To keep information concise, I will exclude apps representing less than 4% of their genre's total ratings."
   ]
  },
  {
   "cell_type": "code",
   "execution_count": 22,
   "metadata": {},
   "outputs": [],
   "source": [
    "def genre_share(dataset, spec_genre):   \n",
    "    count = 0\n",
    "    \n",
    "    # for each app in the dataset\n",
    "        # assign genre\n",
    "        # if statement for specified genre\n",
    "            # assign ratings as float\n",
    "            # accumulator to get total ratings for the specified genre\n",
    "    # print the total number of ratings for the specified genre\n",
    "    for app in dataset:\n",
    "        genre = app[-5]\n",
    "        if genre == spec_genre: \n",
    "            genre_ratings = float(app[6])\n",
    "            count += genre_ratings\n",
    "    genre_total=count\n",
    "    print ('Number of ratings for the', spec_genre, 'genre:',genre_total,'\\n')\n",
    "    for app in dataset:\n",
    "        genre = app[-5]\n",
    "        if genre == spec_genre: \n",
    "            genre_ratings = float(app[6])\n",
    "            count += genre_ratings\n",
    "            percent_count = (genre_ratings/genre_total)*100\n",
    "            if percent_count > 4:\n",
    "                \n",
    "                print (app[2], ' : ', genre_ratings, '\\n', 'Percent of total ratings in Genre: ', percent_count, '%', '\\n', sep='')\n"
   ]
  },
  {
   "cell_type": "markdown",
   "metadata": {},
   "source": [
    "- Now let's first take a look at our leader, **Games**.\n",
    "    - Although I established earlier that this genre is highly saturated, I am still interested in the popularity."
   ]
  },
  {
   "cell_type": "code",
   "execution_count": 23,
   "metadata": {},
   "outputs": [
    {
     "name": "stdout",
     "output_type": "stream",
     "text": [
      "Number of ratings for the Games genre: 42705967.0 \n",
      "\n",
      "Temple Run : 1724546.0\n",
      "Percent of total ratings in Genre: 4.03818510888654%\n",
      "\n",
      "Clash of Clans : 2130805.0\n",
      "Percent of total ratings in Genre: 4.989478402397491%\n",
      "\n"
     ]
    }
   ],
   "source": [
    "genre_share(ios_final,'Games')"
   ]
  },
  {
   "cell_type": "markdown",
   "metadata": {},
   "source": [
    "- Although there are 42MM ratings for **Games**, there are only 22K ratings per app. \n",
    "    - This indicates that the majority of apps in this genre have a ***low amount of ratings***.\n",
    "    - In other words, this appears to be an ***app volume effect*** rather than the ***true popularity*** of the genre.\n",
    "- This is also why I am looking at average ratings per app on top of total ratings."
   ]
  },
  {
   "cell_type": "markdown",
   "metadata": {},
   "source": [
    "Now, I will look at the leader of the average ratings, **Navigation**."
   ]
  },
  {
   "cell_type": "code",
   "execution_count": 24,
   "metadata": {},
   "outputs": [
    {
     "name": "stdout",
     "output_type": "stream",
     "text": [
      "Number of ratings for the Navigation genre: 516542.0 \n",
      "\n",
      "Waze - GPS Navigation, Maps & Real-time Traffic : 345046.0\n",
      "Percent of total ratings in Genre: 66.79921477827553%\n",
      "\n",
      "Google Maps - Navigation & Transit : 154911.0\n",
      "Percent of total ratings in Genre: 29.990010492854406%\n",
      "\n"
     ]
    }
   ],
   "source": [
    "genre_share(ios_final,'Navigation')"
   ]
  },
  {
   "cell_type": "markdown",
   "metadata": {},
   "source": [
    "- I can see that the **Navigation** genre is heavily skewed by the dominance of giant apps, such as Waze and Google Maps, which together contribute a **whopping 90%** of the user reviews.  \n",
    "\n",
    "Let's have a look at a genre that showed up in top both the aggregate ratings and the average ratings, **Social Networking**."
   ]
  },
  {
   "cell_type": "code",
   "execution_count": 25,
   "metadata": {
    "scrolled": true
   },
   "outputs": [
    {
     "name": "stdout",
     "output_type": "stream",
     "text": [
      "Number of ratings for the Social Networking genre: 7584125.0 \n",
      "\n",
      "Facebook : 2974676.0\n",
      "Percent of total ratings in Genre: 39.222402056928125%\n",
      "\n",
      "Skype for iPhone : 373519.0\n",
      "Percent of total ratings in Genre: 4.925011125212203%\n",
      "\n",
      "Tumblr : 334293.0\n",
      "Percent of total ratings in Genre: 4.407799185799285%\n",
      "\n",
      "Pinterest : 1061624.0\n",
      "Percent of total ratings in Genre: 13.997976035468826%\n",
      "\n",
      "Messenger : 351466.0\n",
      "Percent of total ratings in Genre: 4.634232689993902%\n",
      "\n"
     ]
    }
   ],
   "source": [
    "genre_share(ios_final,'Social Networking')"
   ]
  },
  {
   "cell_type": "markdown",
   "metadata": {},
   "source": [
    "- The **Social Networking** genre is also heavily influenced by dominant apps, such as Facebook (39%), albeit not to the same extent.\n",
    "- Apart from Facebook, and maybe Pinterest (13%), there isn't actually a huge skew.\n",
    "\n",
    "&nbsp;\n",
    "Now, let's have a look at **Reference**"
   ]
  },
  {
   "cell_type": "code",
   "execution_count": 26,
   "metadata": {
    "scrolled": true
   },
   "outputs": [
    {
     "name": "stdout",
     "output_type": "stream",
     "text": [
      "Number of ratings for the Reference genre: 1348958.0 \n",
      "\n",
      "Bible : 985920.0\n",
      "Percent of total ratings in Genre: 73.08752385174334%\n",
      "\n",
      "Dictionary.com Dictionary & Thesaurus : 200047.0\n",
      "Percent of total ratings in Genre: 14.82974266063139%\n",
      "\n",
      "Dictionary.com Dictionary & Thesaurus for iPad : 54175.0\n",
      "Percent of total ratings in Genre: 4.016062768447943%\n",
      "\n"
     ]
    }
   ],
   "source": [
    "genre_share(ios_final,'Reference')"
   ]
  },
  {
   "cell_type": "markdown",
   "metadata": {},
   "source": [
    "- Similar to **Navigation**, the **Reference** genre has big players like Bible (73%) and Dictionary.com (15%). "
   ]
  },
  {
   "cell_type": "markdown",
   "metadata": {},
   "source": [
    "Since my aim is to identify the most popular genres, it is necessary that the popularity is representative of the genre. \n",
    "- In the case of **Navigation**,the popularity has been skewed upwards by a select few apps with hundreds of thousands of ratings, while other apps in the genre may be struggling to get past 10,000 ratings. \n",
    "- If I wanted to investigate this further, I could remove the extremely popular apps with a condition for these genres, and get a better picture of the genre averages. \n",
    "    - Out of curiosity, let's just have a quick look:\n",
    "    "
   ]
  },
  {
   "cell_type": "code",
   "execution_count": 27,
   "metadata": {},
   "outputs": [
    {
     "name": "stdout",
     "output_type": "stream",
     "text": [
      "171496.0\n",
      "34299.2\n"
     ]
    }
   ],
   "source": [
    "under_300_k = []\n",
    "\n",
    "for app in ios_final:\n",
    "    genre_ratings = app[6]\n",
    "    if (app[-5] == 'Navigation') and (float(genre_ratings) < 300000):\n",
    "        under_300_k.append(float(genre_ratings))\n",
    "        \n",
    "print(sum(under_300_k))\n",
    "print(sum(under_300_k) / len(under_300_k))"
   ]
  },
  {
   "cell_type": "markdown",
   "metadata": {},
   "source": [
    "- It is clear that by removing the giant apps from **Navigation**, the total ratings dropped from 516K to 171K average ratings for the genre dropped from 86K to 34K. \n",
    "    - This 34k represents a more accurate average of the genre's popularity as a whole.\n",
    "    - This is also consistent with the big apps representing about 90% of the genre.\n",
    "    \n",
    "&nbsp;\n",
    "- Now let's have a look at **Social Networking** without giants:"
   ]
  },
  {
   "cell_type": "code",
   "execution_count": 28,
   "metadata": {},
   "outputs": [
    {
     "name": "stdout",
     "output_type": "stream",
     "text": [
      "4609449.0\n",
      "43899.514285714286\n"
     ]
    }
   ],
   "source": [
    "under_2_m = []\n",
    "\n",
    "for app in ios_final:\n",
    "    genre_ratings = app[6]\n",
    "    if (app[-5] == 'Social Networking') and (float(genre_ratings) < 2000000):\n",
    "        under_2_m.append(float(genre_ratings))\n",
    "        \n",
    "print(sum(under_2_m))\n",
    "print(sum(under_2_m) / len(under_2_m))"
   ]
  },
  {
   "cell_type": "markdown",
   "metadata": {},
   "source": [
    "- In the same vein, by removing the giant app called Facebook from **Social Networking**, the total has dropped from 7.5MM to 4.6MM, and the average ratings from 75K to 44K.\n",
    "\n",
    "&nbsp;\n",
    "- Finally, here is **Reference** without giants:"
   ]
  },
  {
   "cell_type": "code",
   "execution_count": 29,
   "metadata": {},
   "outputs": [
    {
     "name": "stdout",
     "output_type": "stream",
     "text": [
      "162991.0\n",
      "10186.9375\n"
     ]
    }
   ],
   "source": [
    "under_200_k = []\n",
    "\n",
    "for app in ios_final:\n",
    "    genre_ratings = app[6]\n",
    "    if (app[-5] == 'Reference') and (float(genre_ratings) < 200000):\n",
    "        under_200_k.append(float(genre_ratings))\n",
    "        \n",
    "print(sum(under_200_k))\n",
    "print(sum(under_200_k) / len(under_200_k))"
   ]
  },
  {
   "cell_type": "markdown",
   "metadata": {},
   "source": [
    "- The total dropped from 1.3MM to 160K, and the average from 74K to 10K. A significant dip."
   ]
  },
  {
   "cell_type": "markdown",
   "metadata": {},
   "source": [
    "While giant apps normally mean a very difficult market to enter, it is important to have market context.\n",
    "- In this case, the giant app dominating **Reference** is actually the Bible app, a digitized version of a religious book. \n",
    "    - In other words, the app is used solely for religious purposes, and its popularity could be ***driven by the popularity of the book, rather than that of the app***.\n",
    "    - This is crucial, because I am not trying to replicate a book, my aim is to help developers build a new app that adds its own value to any material.\n",
    "    - Additionally, in this relatively unsaturated genre, the addition of this type of app represents diving into a market that hasn't been fully tapped. "
   ]
  },
  {
   "cell_type": "markdown",
   "metadata": {},
   "source": [
    "On the other hand, **Social Networking** has also proven to be a popular genre.\n",
    "- However, in this case, the giant app Facebook is an actual market leader. \n",
    "- Additionally, the genre is not exactly untapped, representing 3.29% of the apps on the App Store. \n",
    "    - This means it will be harder to enter, but not nearly as difficult as the **Games** genre, which makes up more than half of all the apps on the App Store.\n",
    "- Due to its popularity both on an aggregate level and an average level (per app), it is a strong profile to include."
   ]
  },
  {
   "cell_type": "markdown",
   "metadata": {},
   "source": [
    "Based on these findings, both **Social Networking** and **Reference** are useful genres to consider as an app profile.\n",
    "- It may even be a good idea to incorporate both genres.\n",
    "\n",
    "- For example, the new app could take a document and break it down into segments, with added **content features** and **social features** to the experience, such as:\n",
    "    - Social\n",
    "        - Groups for shared interests (books, topics) with discussion panels\n",
    "        - Ability to share doc segments to Facebook, Twitter, LinkedIn, and other social networking apps\n",
    "    - Content\n",
    "        - Summaries \n",
    "            - Users may submit their own summaries \n",
    "            - Rated by other users\n",
    "        - Visual representations/Cartoons/Comics\n",
    "        - Video/Audio versions\n",
    "        - Easy APA/MLA citations for future referencing\n",
    "        - In-app Dictionary\n",
    "            - Iterative (incorporate top answers from discussions)"
   ]
  },
  {
   "cell_type": "markdown",
   "metadata": {},
   "source": [
    "###### App Profile\n",
    "\n",
    "This app profile is no longer just a **Reference** or a **Social Networking** app, it is really a combination of ***learning features*** for reference material (book, article, document) as well as ***topic/interest-specific discussions*** between users. \n",
    "- On top of purely social networking apps, this platform has a social element driven by ***shared interests*** about some form of reference material.\n",
    "- Above and beyond the existing reference apps, which are mostly ***digitized versions of books***, this app is adds **value** to the user. \n",
    "    - In fact, all the other reference material can be passed through this app, rendering their apps useless, and facilitating the ***growth*** of this new app.\n"
   ]
  },
  {
   "cell_type": "markdown",
   "metadata": {},
   "source": [
    "#### Google Play Store\n",
    "- Now, for the Google Play Store, we will use `reviews` as our measure. \n",
    "- Similarly, I will want to look at both the totals as well as the averages."
   ]
  },
  {
   "cell_type": "code",
   "execution_count": 30,
   "metadata": {},
   "outputs": [
    {
     "name": "stdout",
     "output_type": "stream",
     "text": [
      "ART_AND_DESIGN : 24699.42105263158 , 1407867.0\n",
      "AUTO_AND_VEHICLES : 14140.280487804877 , 1159503.0\n",
      "BEAUTY : 7476.226415094339 , 396240.0\n",
      "BOOKS_AND_REFERENCE : 87995.06842105264 , 16719063.0\n",
      "BUSINESS : 24239.727272727272 , 9865569.0\n",
      "COMICS : 42585.61818181818 , 2342209.0\n",
      "COMMUNICATION : 995608.4634146341 , 285739629.0\n",
      "DATING : 21953.272727272728 , 3622290.0\n",
      "EDUCATION : 56293.09708737864 , 5798189.0\n",
      "ENTERTAINMENT : 301752.24705882353 , 25648941.0\n",
      "EVENTS : 2555.84126984127 , 161018.0\n",
      "FINANCE : 38535.8993902439 , 12639775.0\n",
      "FOOD_AND_DRINK : 57478.79090909091 , 6322667.0\n",
      "HEALTH_AND_FITNESS : 78094.9706959707 , 21319927.0\n",
      "HOUSE_AND_HOME : 26435.465753424658 , 1929789.0\n",
      "LIBRARIES_AND_DEMO : 10925.807228915663 , 906842.0\n",
      "LIFESTYLE : 33921.82369942196 , 11736951.0\n",
      "GAME : 683523.8445475638 , 589197554.0\n",
      "FAMILY : 113142.99821002387 , 189627665.0\n",
      "MEDICAL : 3730.1533546325877 , 1167538.0\n",
      "SOCIAL : 965830.9872881356 , 227936113.0\n",
      "SHOPPING : 223887.34673366835 , 44553582.0\n",
      "PHOTOGRAPHY : 404081.3754789272 , 105465239.0\n",
      "SPORTS : 116938.6146179402 , 35198523.0\n",
      "TRAVEL_AND_LOCAL : 129484.42512077295 , 26803276.0\n",
      "TOOLS : 305732.8973333333 , 229299673.0\n",
      "PERSONALIZATION : 181122.31632653062 , 53249961.0\n",
      "PRODUCTIVITY : 160634.5420289855 , 55418917.0\n",
      "PARENTING : 16378.706896551725 , 949965.0\n",
      "WEATHER : 171250.77464788733 , 12158805.0\n",
      "VIDEO_PLAYERS : 425350.08176100627 , 67630663.0\n",
      "NEWS_AND_MAGAZINES : 93088.03225806452 , 23085832.0\n",
      "MAPS_AND_NAVIGATION : 142860.0483870968 , 17714646.0\n"
     ]
    }
   ],
   "source": [
    "# populate the cats_android with the freq_table function\n",
    "cats_android = freq_table(android_final, 1)\n",
    "\n",
    "# for each category \n",
    "    # define total ratings and rating count for each category\n",
    "\n",
    "for cats in cats_android:\n",
    "    total = 0\n",
    "    len_cats = 0\n",
    "    \n",
    "    \n",
    "    # for each app in android:\n",
    "        # assign the category of the app\n",
    "        # if the app category matches the category in the freq_table\n",
    "            # assign the number of ratings to a float variable\n",
    "            # accumulate total ratings\n",
    "            # accumulate rating count\n",
    "            \n",
    "    for app in android_final:\n",
    "        cats_app = app[1]\n",
    "        if cats_app == cats:\n",
    "            n_ratings = float(app[3])\n",
    "            total += n_ratings\n",
    "            len_cats += 1\n",
    "                  \n",
    "    # get avg by taking (total ratings / rating count)\n",
    "    avg_n_ratings = (total/len_cats)\n",
    "    print(cats,':', avg_n_ratings, ',', total)\n",
    "    "
   ]
  },
  {
   "cell_type": "markdown",
   "metadata": {},
   "source": [
    "At the aggregate level, **Games** tops the charts with 589MM ratings, followed by **Communication** with 285MM ratings, and then **Social** with 227MM ratings. \n",
    "\n",
    "At the average level, **Communication** has the highest number of ratings (995608), followed by **Social** (965830), and then by **Game** (683523).\n",
    "- Similar to the IOS data, in order to dive deeper into a genre, I will create a function cats_share to investigate any specified genre in greater detail, including the total number of ratings, and percentage share of that total each app has.\n",
    "- This can help us identify if there are any particular apps that are dominating (and thereby skewing) the genre.\n",
    "- Similar to the App Store data, I will exclude apps that represent less than 4% of their category's total ratings."
   ]
  },
  {
   "cell_type": "code",
   "execution_count": 31,
   "metadata": {},
   "outputs": [],
   "source": [
    "def cats_share(dataset, spec_cats):   \n",
    "    count = 0\n",
    "    \n",
    "    # for each app in the dataset\n",
    "        # assign genre\n",
    "        # if statement for specified category\n",
    "            # assign ratings as float\n",
    "            # accumulator to get total ratings for the specified category\n",
    "    # print the total number of ratings for the specified category\n",
    "    for app in dataset:\n",
    "        cats = app[1]\n",
    "        if cats == spec_cats: \n",
    "            cats_ratings = float(app[3])\n",
    "            count += cats_ratings\n",
    "    cats_total=count\n",
    "    print ('Number of ratings for the', spec_cats, 'category:',cats_total,'\\n')\n",
    "    for app in dataset:\n",
    "        cats = app[1]\n",
    "        if cats == spec_cats: \n",
    "            cats_ratings = float(app[3])\n",
    "            count += cats_ratings\n",
    "            percent_count = (cats_ratings/cats_total)*100\n",
    "            \n",
    "            if percent_count > 4:\n",
    "                print (app[0], ' : ', cats_ratings, '\\n', 'Percent of total Category ratings: ', percent_count, '%', '\\n', sep='')\n"
   ]
  },
  {
   "cell_type": "markdown",
   "metadata": {},
   "source": [
    "Although the **Game** category is the aggregate leader, it is also the 3rd highest in average ratings so I will investigate that genre there. \n",
    "- As such, I will start with the highest number of ratings on average, **Communication**:"
   ]
  },
  {
   "cell_type": "code",
   "execution_count": 32,
   "metadata": {},
   "outputs": [
    {
     "name": "stdout",
     "output_type": "stream",
     "text": [
      "Number of ratings for the COMMUNICATION category: 285739629.0 \n",
      "\n",
      "WhatsApp Messenger : 69119316.0\n",
      "Percent of total Category ratings: 24.189614944869966%\n",
      "\n",
      "Messenger – Text and Video Chat for Free : 56646578.0\n",
      "Percent of total Category ratings: 19.824543833225178%\n",
      "\n",
      "UC Browser - Fast Download Private & Secure : 17714850.0\n",
      "Percent of total Category ratings: 6.199647581960009%\n",
      "\n",
      "BBM - Free Calls & Messages : 12843436.0\n",
      "Percent of total Category ratings: 4.494803904151496%\n",
      "\n"
     ]
    }
   ],
   "source": [
    "cats_share(android_final,'COMMUNICATION')"
   ]
  },
  {
   "cell_type": "markdown",
   "metadata": {},
   "source": [
    "As you can see, Whatsapp (24%) and Messenger (20%) are dominant forces in the **Communication** genre, albeit not as dominant as the giants in the IOS data. \n",
    "- It can skew the data but perhaps not to the same extent as representing 90% of all reviews in the genre.\n",
    "    - Again, out of curiosity, let's have a look at them without the giants\n"
   ]
  },
  {
   "cell_type": "code",
   "execution_count": 33,
   "metadata": {},
   "outputs": [
    {
     "name": "stdout",
     "output_type": "stream",
     "text": [
      "159973735.0\n",
      "561311.350877193\n"
     ]
    }
   ],
   "source": [
    "under_50_m = []\n",
    "\n",
    "for app in android_final:\n",
    "    cats_ratings = app[3]\n",
    "    if (app[1] == 'COMMUNICATION') and (float(cats_ratings) < 50000000):\n",
    "        under_50_m.append(float(cats_ratings))\n",
    "        \n",
    "print(sum(under_50_m))\n",
    "print(sum(under_50_m) / len(under_50_m))"
   ]
  },
  {
   "cell_type": "markdown",
   "metadata": {},
   "source": [
    "- Evidently, for **Communication** the total dropped from 285MM to 159MM, and the average dropped from 995K to 561K. \n",
    "    - This is consistent with Whatsapp and Messenger representing 44% of the genre's ratings. "
   ]
  },
  {
   "cell_type": "code",
   "execution_count": 34,
   "metadata": {},
   "outputs": [
    {
     "name": "stdout",
     "output_type": "stream",
     "text": [
      "Number of ratings for the SOCIAL category: 227936113.0 \n",
      "\n",
      "Facebook : 78158306.0\n",
      "Percent of total Category ratings: 34.289566919130536%\n",
      "\n",
      "Instagram : 66577446.0\n",
      "Percent of total Category ratings: 29.208818700878698%\n",
      "\n",
      "Snapchat : 17015352.0\n",
      "Percent of total Category ratings: 7.464965413356856%\n",
      "\n"
     ]
    }
   ],
   "source": [
    "cats_share(android_final, 'SOCIAL')"
   ]
  },
  {
   "cell_type": "markdown",
   "metadata": {},
   "source": [
    "Similarly, for the **Social** category, Facebook (34%) and Instagram (29%) make up 63% of the category's ratings, which can definitely skew the data. "
   ]
  },
  {
   "cell_type": "code",
   "execution_count": 35,
   "metadata": {},
   "outputs": [
    {
     "name": "stdout",
     "output_type": "stream",
     "text": [
      "83200361.0\n",
      "355557.0982905983\n"
     ]
    }
   ],
   "source": [
    "under_50_m = []\n",
    "\n",
    "for app in android_final:\n",
    "    cats_ratings = app[3]\n",
    "    if (app[1] == 'SOCIAL') and (float(cats_ratings) < 50000000):\n",
    "        under_50_m.append(float(cats_ratings))\n",
    "        \n",
    "print(sum(under_50_m))\n",
    "print(sum(under_50_m) / len(under_50_m))"
   ]
  },
  {
   "cell_type": "markdown",
   "metadata": {},
   "source": [
    "- The total number of ratings **Social** dropped from 227MM to 83MM, and the average went from 965,830 to 355,557 ratings. \n",
    "    - This is also consistent with Facebook and Instagram representing 63% of the category."
   ]
  },
  {
   "cell_type": "markdown",
   "metadata": {},
   "source": [
    "- Now let's have a look at the **Game** category:"
   ]
  },
  {
   "cell_type": "code",
   "execution_count": 36,
   "metadata": {
    "scrolled": true
   },
   "outputs": [
    {
     "name": "stdout",
     "output_type": "stream",
     "text": [
      "Number of ratings for the GAME category: 589197554.0 \n",
      "\n",
      "Subway Surfers : 27725352.0\n",
      "Percent of total Category ratings: 4.705612202863965%\n",
      "\n",
      "Clash of Clans : 44893888.0\n",
      "Percent of total Category ratings: 7.619496668854128%\n",
      "\n"
     ]
    }
   ],
   "source": [
    "cats_share(android_final, 'GAME')"
   ]
  },
  {
   "cell_type": "markdown",
   "metadata": {},
   "source": [
    "Now this is interesting. **Game** is the first genre so far that doesn't have a giant app dominating more than half the ratings of the entire genre. Here are some of the top apps in this genre by number of ratings:\n",
    "- Beach Head Shooting Assault (9.4%)\n",
    "- BW-Go Free (9.3%)\n",
    "- E.G. Chess Free (8.6%)\n",
    "- BJ's Bingo & Gaming Casino (8.5%)\n",
    "- Cardio B Piano Game (8.5%)\n",
    "\n",
    "Based on this finding, I will retain the average number of ratings for **Game** at 683K.\n",
    "\n",
    "&nbsp;\n",
    "If I remove the giant apps from the other categories, and assuming other genres also have some sort of giant apps, **Game** would be top of the popularity charts by both total number of ratings and average ratings."
   ]
  },
  {
   "cell_type": "markdown",
   "metadata": {},
   "source": [
    "While all of these are interesting categories, the **Communication** and **Social** categories already have giant apps dominating the genre, which makes it pretty difficult for a new app to compete. \n",
    "- Additionally, as I found earlier, the **Game** category is highly saturated by the sheer number of apps.\n",
    "    - Even though it had no major skews, its saturated market makes it less than ideal environment for a new app to grow."
   ]
  },
  {
   "cell_type": "markdown",
   "metadata": {},
   "source": [
    "Pursuant to my findings in the IOS data, I am keen to explore how the **Books and Reference** category fares in the Android data. If it is favorable, then that will support my reference app profile for both markets. \n",
    "- On the surface, it has significantly lower ratings than the top genres, with 87995 ratings on average. "
   ]
  },
  {
   "cell_type": "code",
   "execution_count": 37,
   "metadata": {},
   "outputs": [
    {
     "name": "stdout",
     "output_type": "stream",
     "text": [
      "Number of ratings for the BOOKS_AND_REFERENCE category: 16719063.0 \n",
      "\n",
      "Google Play Books : 1433233.0\n",
      "Percent of total Category ratings: 8.572448109083625%\n",
      "\n",
      "Bible : 2440695.0\n",
      "Percent of total Category ratings: 14.598276231150034%\n",
      "\n",
      "Amazon Kindle : 814151.0\n",
      "Percent of total Category ratings: 4.869597058160497%\n",
      "\n",
      "Wattpad 📖 Free Books : 2915189.0\n",
      "Percent of total Category ratings: 17.436318052034373%\n",
      "\n",
      "Dictionary.com: Find Definitions for English Words : 899010.0\n",
      "Percent of total Category ratings: 5.377155406376541%\n",
      "\n",
      "JW Library : 922752.0\n",
      "Percent of total Category ratings: 5.519160972119072%\n",
      "\n"
     ]
    }
   ],
   "source": [
    "cats_share(android_final, 'BOOKS_AND_REFERENCE')"
   ]
  },
  {
   "cell_type": "markdown",
   "metadata": {},
   "source": [
    "Similar to **Game**, the **Books and Reference** category is also not dominated by a giant app, and thus does not have a large skew in the data. This is good.\n",
    "- The majority of the apps are libraries and dictionaries.\n",
    "- The closest to a giant app is the Bible app, which represents 14.6% of the category ratings.\n",
    "    - This is similar to the App Store data. Likewise, it is important to recognize the religious context of its popularity - the popularity may stem from the material, not necessarily the app.\n",
    "- According to the number of ratings, however, this does not seem to be amongst the more popular categories in the Google Play Store. "
   ]
  },
  {
   "cell_type": "markdown",
   "metadata": {},
   "source": [
    "## Conclusion\n",
    "\n",
    "For this project, my goal was to use the existing App Store and Google Play Store data to derive an app profile that can be successful in both markets. \n",
    "\n",
    "&nbsp;\n",
    "\n",
    "According the App Store data, I developed an app profile that was a combination of both **Reference** and **Social Networking** genres. \n",
    "- However, the Google Play data shows **Social** to be more significantly dominated by giant apps (which means it is more difficult to compete).\n",
    "- In addition, while **Reference** was popular in the App Store (top 3 avg), its equivalent **Books and Reference** in the Google Play Store does not fare nearly as well. \n",
    "- Due to these factors, it is possible that in the ***short-term***, the new app will fare *better in the App Store* market than the Google Play Store market.\n",
    "\n",
    "&nbsp;\n",
    "On the flip side, the fact that the app profile is a combination of both gives it a **unique value**. \n",
    "- It will not be just another purely **Social** app (for conversations, media, and keeping in contact), it has a ***targeted purpose*** based on reference material, and ***targeted audience*** based on the shared interest. \n",
    "- It will not be just another **Books and Reference** app (digitzed version of a book), it will provide a ***social edge*** through discussion with individuals who share the interest, it has ***reliability*** through user ratings on user summaries, and it provides an improved way to ***learn*** and refer to material.\n",
    "\n",
    "&nbsp;\n",
    "From a growth perspective:\n",
    "- The **Books and Reference** category is relatively untapped - it has great ***potential*** to grow as a genre. \n",
    "- Finally, since it is based on shared interest, *graph theory* and *homophily* suggest that ***network cascades*** and information ***diffusion*** are far more likely - which means that **growth** is more likely to happen, and happen at a faster pace.\n",
    "\n"
   ]
  }
 ],
 "metadata": {
  "kernelspec": {
   "display_name": "Python 3",
   "language": "python",
   "name": "python3"
  },
  "language_info": {
   "codemirror_mode": {
    "name": "ipython",
    "version": 3
   },
   "file_extension": ".py",
   "mimetype": "text/x-python",
   "name": "python",
   "nbconvert_exporter": "python",
   "pygments_lexer": "ipython3",
   "version": "3.7.3"
  }
 },
 "nbformat": 4,
 "nbformat_minor": 2
}
